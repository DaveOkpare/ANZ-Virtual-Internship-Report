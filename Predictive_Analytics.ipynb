{
 "cells": [
  {
   "cell_type": "code",
   "execution_count": 18,
   "id": "68b2f32a",
   "metadata": {},
   "outputs": [],
   "source": [
    "import numpy as np\n",
    "import matplotlib.pyplot as plt\n",
    "import seaborn as sns\n",
    "import pandas as pd\n",
    "import datetime\n",
    "from datetime import date, timedelta\n",
    "from sklearn.model_selection import train_test_split\n",
    "from sklearn.linear_model import LinearRegression\n",
    "from sklearn import metrics\n",
    "\n",
    "\n",
    "%matplotlib inline\n",
    "\n",
    "sns.set(color_codes=True)\n",
    "pd.set_option('display.max_columns', 100)"
   ]
  },
  {
   "cell_type": "code",
   "execution_count": 19,
   "id": "5ab26bf7",
   "metadata": {},
   "outputs": [],
   "source": [
    "df = pd.read_csv('df_clean.csv')"
   ]
  },
  {
   "cell_type": "code",
   "execution_count": 76,
   "id": "bb8b7936",
   "metadata": {},
   "outputs": [],
   "source": [
    "customer = df.customer_id.unique()\n",
    "salary_interval = []\n",
    "date_interval = []\n",
    "for i in customer:\n",
    "    temp = df[(df.customer_id == i) & (df.txn_description == 'PAY/SALARY')][['amount', 'date']]\n",
    "    temp['date'] = pd.to_datetime(temp['date'])\n",
    "    count = len(temp)\n",
    "    s = []\n",
    "    lvl = []\n",
    "    for j in range(count - 1):\n",
    "        s.append(temp['date'].iloc[j+1] - temp['date'].iloc[j])\n",
    "        lvl.append(temp['amount'].iloc[j])\n",
    "    salary_interval.append(max(lvl))\n",
    "    date_interval.append(max(s).days)\n",
    "\n",
    "annual_salary = pd.DataFrame({'customer_id': customer, 'annual_salary': np.rint(np.array(salary_interval)/np.array(date_interval))*365.25})"
   ]
  },
  {
   "cell_type": "code",
   "execution_count": 79,
   "id": "b6f162c0",
   "metadata": {},
   "outputs": [
    {
     "data": {
      "text/html": [
       "<div>\n",
       "<style scoped>\n",
       "    .dataframe tbody tr th:only-of-type {\n",
       "        vertical-align: middle;\n",
       "    }\n",
       "\n",
       "    .dataframe tbody tr th {\n",
       "        vertical-align: top;\n",
       "    }\n",
       "\n",
       "    .dataframe thead th {\n",
       "        text-align: right;\n",
       "    }\n",
       "</style>\n",
       "<table border=\"1\" class=\"dataframe\">\n",
       "  <thead>\n",
       "    <tr style=\"text-align: right;\">\n",
       "      <th></th>\n",
       "      <th>customer_id</th>\n",
       "      <th>annual_salary</th>\n",
       "    </tr>\n",
       "  </thead>\n",
       "  <tbody>\n",
       "    <tr>\n",
       "      <th>0</th>\n",
       "      <td>CUS-2487424745</td>\n",
       "      <td>52961.25</td>\n",
       "    </tr>\n",
       "    <tr>\n",
       "      <th>1</th>\n",
       "      <td>CUS-2142601169</td>\n",
       "      <td>52230.75</td>\n",
       "    </tr>\n",
       "    <tr>\n",
       "      <th>2</th>\n",
       "      <td>CUS-1614226872</td>\n",
       "      <td>46386.75</td>\n",
       "    </tr>\n",
       "    <tr>\n",
       "      <th>3</th>\n",
       "      <td>CUS-2688605418</td>\n",
       "      <td>60631.50</td>\n",
       "    </tr>\n",
       "    <tr>\n",
       "      <th>4</th>\n",
       "      <td>CUS-4123612273</td>\n",
       "      <td>55883.25</td>\n",
       "    </tr>\n",
       "    <tr>\n",
       "      <th>...</th>\n",
       "      <td>...</td>\n",
       "      <td>...</td>\n",
       "    </tr>\n",
       "    <tr>\n",
       "      <th>95</th>\n",
       "      <td>CUS-2505971401</td>\n",
       "      <td>101539.50</td>\n",
       "    </tr>\n",
       "    <tr>\n",
       "      <th>96</th>\n",
       "      <td>CUS-2819545904</td>\n",
       "      <td>84372.75</td>\n",
       "    </tr>\n",
       "    <tr>\n",
       "      <th>97</th>\n",
       "      <td>CUS-3395687666</td>\n",
       "      <td>46021.50</td>\n",
       "    </tr>\n",
       "    <tr>\n",
       "      <th>98</th>\n",
       "      <td>CUS-1147642491</td>\n",
       "      <td>89121.00</td>\n",
       "    </tr>\n",
       "    <tr>\n",
       "      <th>99</th>\n",
       "      <td>CUS-261674136</td>\n",
       "      <td>115053.75</td>\n",
       "    </tr>\n",
       "  </tbody>\n",
       "</table>\n",
       "<p>100 rows × 2 columns</p>\n",
       "</div>"
      ],
      "text/plain": [
       "       customer_id  annual_salary\n",
       "0   CUS-2487424745       52961.25\n",
       "1   CUS-2142601169       52230.75\n",
       "2   CUS-1614226872       46386.75\n",
       "3   CUS-2688605418       60631.50\n",
       "4   CUS-4123612273       55883.25\n",
       "..             ...            ...\n",
       "95  CUS-2505971401      101539.50\n",
       "96  CUS-2819545904       84372.75\n",
       "97  CUS-3395687666       46021.50\n",
       "98  CUS-1147642491       89121.00\n",
       "99   CUS-261674136      115053.75\n",
       "\n",
       "[100 rows x 2 columns]"
      ]
     },
     "execution_count": 79,
     "metadata": {},
     "output_type": "execute_result"
    }
   ],
   "source": [
    "annual_salary"
   ]
  },
  {
   "cell_type": "code",
   "execution_count": 80,
   "id": "b755876c",
   "metadata": {},
   "outputs": [
    {
     "data": {
      "image/png": "[encoded data removed]",
      "text/plain": [
       "<Figure size 1080x720 with 1 Axes>"
      ]
     },
     "metadata": {},
     "output_type": "display_data"
    }
   ],
   "source": [
    "plt.figure(figsize = (15, 10))\n",
    "sns.histplot(x = 'annual_salary', data = annual_salary, bins = 15)\n",
    "sns.despine();"
   ]
  },
  {
   "cell_type": "code",
   "execution_count": 81,
   "id": "bbf137bb",
   "metadata": {},
   "outputs": [],
   "source": [
    "salary_td = df[df['txn_description'] == 'PAY/SALARY']"
   ]
  },
  {
   "cell_type": "code",
   "execution_count": 82,
   "id": "6ab90d74",
   "metadata": {},
   "outputs": [
    {
     "data": {
      "text/html": [
       "<div>\n",
       "<style scoped>\n",
       "    .dataframe tbody tr th:only-of-type {\n",
       "        vertical-align: middle;\n",
       "    }\n",
       "\n",
       "    .dataframe tbody tr th {\n",
       "        vertical-align: top;\n",
       "    }\n",
       "\n",
       "    .dataframe thead th {\n",
       "        text-align: right;\n",
       "    }\n",
       "</style>\n",
       "<table border=\"1\" class=\"dataframe\">\n",
       "  <thead>\n",
       "    <tr style=\"text-align: right;\">\n",
       "      <th></th>\n",
       "      <th>status</th>\n",
       "      <th>card_present_flag</th>\n",
       "      <th>bpay_biller_code</th>\n",
       "      <th>account</th>\n",
       "      <th>currency</th>\n",
       "      <th>long_lat</th>\n",
       "      <th>txn_description</th>\n",
       "      <th>merchant_id</th>\n",
       "      <th>merchant_code</th>\n",
       "      <th>first_name</th>\n",
       "      <th>balance</th>\n",
       "      <th>date</th>\n",
       "      <th>gender</th>\n",
       "      <th>age</th>\n",
       "      <th>merchant_suburb</th>\n",
       "      <th>merchant_state</th>\n",
       "      <th>extraction</th>\n",
       "      <th>amount</th>\n",
       "      <th>transaction_id</th>\n",
       "      <th>country</th>\n",
       "      <th>customer_id</th>\n",
       "      <th>merchant_long_lat</th>\n",
       "      <th>movement</th>\n",
       "      <th>hour</th>\n",
       "      <th>weekday</th>\n",
       "      <th>purchase</th>\n",
       "      <th>week</th>\n",
       "    </tr>\n",
       "  </thead>\n",
       "  <tbody>\n",
       "    <tr>\n",
       "      <th>50</th>\n",
       "      <td>posted</td>\n",
       "      <td>NaN</td>\n",
       "      <td>0</td>\n",
       "      <td>ACC-588564840</td>\n",
       "      <td>AUD</td>\n",
       "      <td>151.27 -33.76</td>\n",
       "      <td>PAY/SALARY</td>\n",
       "      <td>NaN</td>\n",
       "      <td>0.0</td>\n",
       "      <td>Isaiah</td>\n",
       "      <td>8342.11</td>\n",
       "      <td>2018-08-01 00:00:00</td>\n",
       "      <td>M</td>\n",
       "      <td>23</td>\n",
       "      <td>NaN</td>\n",
       "      <td>NaN</td>\n",
       "      <td>2018-08-01 11:00:00</td>\n",
       "      <td>3903.95</td>\n",
       "      <td>9ca281650e5d482d9e53f85e959baa66</td>\n",
       "      <td>Australia</td>\n",
       "      <td>CUS-1462656821</td>\n",
       "      <td>NaN</td>\n",
       "      <td>credit</td>\n",
       "      <td>11</td>\n",
       "      <td>3</td>\n",
       "      <td>False</td>\n",
       "      <td>31</td>\n",
       "    </tr>\n",
       "    <tr>\n",
       "      <th>61</th>\n",
       "      <td>posted</td>\n",
       "      <td>NaN</td>\n",
       "      <td>0</td>\n",
       "      <td>ACC-1650504218</td>\n",
       "      <td>AUD</td>\n",
       "      <td>145.01 -37.93</td>\n",
       "      <td>PAY/SALARY</td>\n",
       "      <td>NaN</td>\n",
       "      <td>0.0</td>\n",
       "      <td>Marissa</td>\n",
       "      <td>2040.58</td>\n",
       "      <td>2018-08-01 00:00:00</td>\n",
       "      <td>F</td>\n",
       "      <td>23</td>\n",
       "      <td>NaN</td>\n",
       "      <td>NaN</td>\n",
       "      <td>2018-08-01 12:00:00</td>\n",
       "      <td>1626.48</td>\n",
       "      <td>1822eb0e1bbe4c9e95ebbb0fa2cc4323</td>\n",
       "      <td>Australia</td>\n",
       "      <td>CUS-2500783281</td>\n",
       "      <td>NaN</td>\n",
       "      <td>credit</td>\n",
       "      <td>12</td>\n",
       "      <td>3</td>\n",
       "      <td>False</td>\n",
       "      <td>31</td>\n",
       "    </tr>\n",
       "    <tr>\n",
       "      <th>64</th>\n",
       "      <td>posted</td>\n",
       "      <td>NaN</td>\n",
       "      <td>0</td>\n",
       "      <td>ACC-3326339947</td>\n",
       "      <td>AUD</td>\n",
       "      <td>151.18 -33.80</td>\n",
       "      <td>PAY/SALARY</td>\n",
       "      <td>NaN</td>\n",
       "      <td>0.0</td>\n",
       "      <td>Eric</td>\n",
       "      <td>3158.51</td>\n",
       "      <td>2018-08-01 00:00:00</td>\n",
       "      <td>M</td>\n",
       "      <td>22</td>\n",
       "      <td>NaN</td>\n",
       "      <td>NaN</td>\n",
       "      <td>2018-08-01 12:00:00</td>\n",
       "      <td>983.36</td>\n",
       "      <td>bd62b1799a454cedbbb56364f7c40cbf</td>\n",
       "      <td>Australia</td>\n",
       "      <td>CUS-326006476</td>\n",
       "      <td>NaN</td>\n",
       "      <td>credit</td>\n",
       "      <td>12</td>\n",
       "      <td>3</td>\n",
       "      <td>False</td>\n",
       "      <td>31</td>\n",
       "    </tr>\n",
       "    <tr>\n",
       "      <th>68</th>\n",
       "      <td>posted</td>\n",
       "      <td>NaN</td>\n",
       "      <td>0</td>\n",
       "      <td>ACC-3541460373</td>\n",
       "      <td>AUD</td>\n",
       "      <td>145.00 -37.83</td>\n",
       "      <td>PAY/SALARY</td>\n",
       "      <td>NaN</td>\n",
       "      <td>0.0</td>\n",
       "      <td>Jeffrey</td>\n",
       "      <td>2517.66</td>\n",
       "      <td>2018-08-01 00:00:00</td>\n",
       "      <td>M</td>\n",
       "      <td>24</td>\n",
       "      <td>NaN</td>\n",
       "      <td>NaN</td>\n",
       "      <td>2018-08-01 13:00:00</td>\n",
       "      <td>1408.08</td>\n",
       "      <td>0d95c7c932bb48e5b44c2637bdd3efe9</td>\n",
       "      <td>Australia</td>\n",
       "      <td>CUS-1433879684</td>\n",
       "      <td>NaN</td>\n",
       "      <td>credit</td>\n",
       "      <td>13</td>\n",
       "      <td>3</td>\n",
       "      <td>False</td>\n",
       "      <td>31</td>\n",
       "    </tr>\n",
       "    <tr>\n",
       "      <th>70</th>\n",
       "      <td>posted</td>\n",
       "      <td>NaN</td>\n",
       "      <td>0</td>\n",
       "      <td>ACC-2776252858</td>\n",
       "      <td>AUD</td>\n",
       "      <td>144.95 -37.76</td>\n",
       "      <td>PAY/SALARY</td>\n",
       "      <td>NaN</td>\n",
       "      <td>0.0</td>\n",
       "      <td>Kristin</td>\n",
       "      <td>2271.79</td>\n",
       "      <td>2018-08-01 00:00:00</td>\n",
       "      <td>F</td>\n",
       "      <td>43</td>\n",
       "      <td>NaN</td>\n",
       "      <td>NaN</td>\n",
       "      <td>2018-08-01 13:00:00</td>\n",
       "      <td>1068.04</td>\n",
       "      <td>f50ccf1195214d14a0acbfcb5a265193</td>\n",
       "      <td>Australia</td>\n",
       "      <td>CUS-4123612273</td>\n",
       "      <td>NaN</td>\n",
       "      <td>credit</td>\n",
       "      <td>13</td>\n",
       "      <td>3</td>\n",
       "      <td>False</td>\n",
       "      <td>31</td>\n",
       "    </tr>\n",
       "  </tbody>\n",
       "</table>\n",
       "</div>"
      ],
      "text/plain": [
       "    status  card_present_flag bpay_biller_code         account currency  \\\n",
       "50  posted                NaN                0   ACC-588564840      AUD   \n",
       "61  posted                NaN                0  ACC-1650504218      AUD   \n",
       "64  posted                NaN                0  ACC-3326339947      AUD   \n",
       "68  posted                NaN                0  ACC-3541460373      AUD   \n",
       "70  posted                NaN                0  ACC-2776252858      AUD   \n",
       "\n",
       "         long_lat txn_description merchant_id  merchant_code first_name  \\\n",
       "50  151.27 -33.76      PAY/SALARY         NaN            0.0     Isaiah   \n",
       "61  145.01 -37.93      PAY/SALARY         NaN            0.0    Marissa   \n",
       "64  151.18 -33.80      PAY/SALARY         NaN            0.0       Eric   \n",
       "68  145.00 -37.83      PAY/SALARY         NaN            0.0    Jeffrey   \n",
       "70  144.95 -37.76      PAY/SALARY         NaN            0.0    Kristin   \n",
       "\n",
       "    balance                 date gender  age merchant_suburb merchant_state  \\\n",
       "50  8342.11  2018-08-01 00:00:00      M   23             NaN            NaN   \n",
       "61  2040.58  2018-08-01 00:00:00      F   23             NaN            NaN   \n",
       "64  3158.51  2018-08-01 00:00:00      M   22             NaN            NaN   \n",
       "68  2517.66  2018-08-01 00:00:00      M   24             NaN            NaN   \n",
       "70  2271.79  2018-08-01 00:00:00      F   43             NaN            NaN   \n",
       "\n",
       "             extraction   amount                    transaction_id    country  \\\n",
       "50  2018-08-01 11:00:00  3903.95  9ca281650e5d482d9e53f85e959baa66  Australia   \n",
       "61  2018-08-01 12:00:00  1626.48  1822eb0e1bbe4c9e95ebbb0fa2cc4323  Australia   \n",
       "64  2018-08-01 12:00:00   983.36  bd62b1799a454cedbbb56364f7c40cbf  Australia   \n",
       "68  2018-08-01 13:00:00  1408.08  0d95c7c932bb48e5b44c2637bdd3efe9  Australia   \n",
       "70  2018-08-01 13:00:00  1068.04  f50ccf1195214d14a0acbfcb5a265193  Australia   \n",
       "\n",
       "       customer_id merchant_long_lat movement  hour  weekday  purchase  week  \n",
       "50  CUS-1462656821               NaN   credit    11        3     False    31  \n",
       "61  CUS-2500783281               NaN   credit    12        3     False    31  \n",
       "64   CUS-326006476               NaN   credit    12        3     False    31  \n",
       "68  CUS-1433879684               NaN   credit    13        3     False    31  \n",
       "70  CUS-4123612273               NaN   credit    13        3     False    31  "
      ]
     },
     "execution_count": 82,
     "metadata": {},
     "output_type": "execute_result"
    }
   ],
   "source": [
    "salary_td.head()"
   ]
  },
  {
   "cell_type": "code",
   "execution_count": 83,
   "id": "6b3da329",
   "metadata": {},
   "outputs": [],
   "source": [
    "salary_td = salary_td.drop([\n",
    "                'status',\n",
    "                'card_present_flag',\n",
    "                'bpay_biller_code',\n",
    "                'currency',\n",
    "                'merchant_id',\n",
    "                'merchant_code',\n",
    "                'date',\n",
    "                'txn_description',\n",
    "                'merchant_suburb',\n",
    "                'merchant_state',\n",
    "                'extraction',\n",
    "                'transaction_id',\n",
    "                'country',\n",
    "                'merchant_long_lat',\n",
    "                'movement',\n",
    "                'hour',\n",
    "                'weekday',\n",
    "                'purchase',\n",
    "                'week'\n",
    "            ], axis=1)"
   ]
  },
  {
   "cell_type": "code",
   "execution_count": 84,
   "id": "767d13d6",
   "metadata": {},
   "outputs": [],
   "source": [
    "salary_td = salary_td.reset_index(drop=True)"
   ]
  },
  {
   "cell_type": "code",
   "execution_count": 85,
   "id": "3e16cc8f",
   "metadata": {},
   "outputs": [],
   "source": [
    "long_lat = salary_td['long_lat'].str.split('-', n=1, expand=True)"
   ]
  },
  {
   "cell_type": "code",
   "execution_count": 86,
   "id": "f40fa7dd",
   "metadata": {},
   "outputs": [],
   "source": [
    "salary_td['long'] = long_lat[0]\n",
    "salary_td['lat'] = long_lat[1]"
   ]
  },
  {
   "cell_type": "code",
   "execution_count": 87,
   "id": "47e49ba0",
   "metadata": {},
   "outputs": [],
   "source": [
    "salary_td = salary_td.drop(['long_lat'], axis=1)"
   ]
  },
  {
   "cell_type": "code",
   "execution_count": 88,
   "id": "2303a846",
   "metadata": {},
   "outputs": [],
   "source": [
    "salary_td = salary_td.drop_duplicates().reset_index(drop=True)"
   ]
  },
  {
   "cell_type": "code",
   "execution_count": 89,
   "id": "edb4668c",
   "metadata": {},
   "outputs": [
    {
     "data": {
      "text/html": [
       "<div>\n",
       "<style scoped>\n",
       "    .dataframe tbody tr th:only-of-type {\n",
       "        vertical-align: middle;\n",
       "    }\n",
       "\n",
       "    .dataframe tbody tr th {\n",
       "        vertical-align: top;\n",
       "    }\n",
       "\n",
       "    .dataframe thead th {\n",
       "        text-align: right;\n",
       "    }\n",
       "</style>\n",
       "<table border=\"1\" class=\"dataframe\">\n",
       "  <thead>\n",
       "    <tr style=\"text-align: right;\">\n",
       "      <th></th>\n",
       "      <th>account</th>\n",
       "      <th>first_name</th>\n",
       "      <th>balance</th>\n",
       "      <th>gender</th>\n",
       "      <th>age</th>\n",
       "      <th>amount</th>\n",
       "      <th>customer_id</th>\n",
       "      <th>long</th>\n",
       "      <th>lat</th>\n",
       "    </tr>\n",
       "  </thead>\n",
       "  <tbody>\n",
       "    <tr>\n",
       "      <th>0</th>\n",
       "      <td>ACC-588564840</td>\n",
       "      <td>Isaiah</td>\n",
       "      <td>8342.11</td>\n",
       "      <td>M</td>\n",
       "      <td>23</td>\n",
       "      <td>3903.95</td>\n",
       "      <td>CUS-1462656821</td>\n",
       "      <td>151.27</td>\n",
       "      <td>33.76</td>\n",
       "    </tr>\n",
       "    <tr>\n",
       "      <th>1</th>\n",
       "      <td>ACC-1650504218</td>\n",
       "      <td>Marissa</td>\n",
       "      <td>2040.58</td>\n",
       "      <td>F</td>\n",
       "      <td>23</td>\n",
       "      <td>1626.48</td>\n",
       "      <td>CUS-2500783281</td>\n",
       "      <td>145.01</td>\n",
       "      <td>37.93</td>\n",
       "    </tr>\n",
       "    <tr>\n",
       "      <th>2</th>\n",
       "      <td>ACC-3326339947</td>\n",
       "      <td>Eric</td>\n",
       "      <td>3158.51</td>\n",
       "      <td>M</td>\n",
       "      <td>22</td>\n",
       "      <td>983.36</td>\n",
       "      <td>CUS-326006476</td>\n",
       "      <td>151.18</td>\n",
       "      <td>33.80</td>\n",
       "    </tr>\n",
       "    <tr>\n",
       "      <th>3</th>\n",
       "      <td>ACC-3541460373</td>\n",
       "      <td>Jeffrey</td>\n",
       "      <td>2517.66</td>\n",
       "      <td>M</td>\n",
       "      <td>24</td>\n",
       "      <td>1408.08</td>\n",
       "      <td>CUS-1433879684</td>\n",
       "      <td>145.00</td>\n",
       "      <td>37.83</td>\n",
       "    </tr>\n",
       "    <tr>\n",
       "      <th>4</th>\n",
       "      <td>ACC-2776252858</td>\n",
       "      <td>Kristin</td>\n",
       "      <td>2271.79</td>\n",
       "      <td>F</td>\n",
       "      <td>43</td>\n",
       "      <td>1068.04</td>\n",
       "      <td>CUS-4123612273</td>\n",
       "      <td>144.95</td>\n",
       "      <td>37.76</td>\n",
       "    </tr>\n",
       "    <tr>\n",
       "      <th>...</th>\n",
       "      <td>...</td>\n",
       "      <td>...</td>\n",
       "      <td>...</td>\n",
       "      <td>...</td>\n",
       "      <td>...</td>\n",
       "      <td>...</td>\n",
       "      <td>...</td>\n",
       "      <td>...</td>\n",
       "      <td>...</td>\n",
       "    </tr>\n",
       "    <tr>\n",
       "      <th>878</th>\n",
       "      <td>ACC-1973887809</td>\n",
       "      <td>Antonio</td>\n",
       "      <td>9378.51</td>\n",
       "      <td>M</td>\n",
       "      <td>26</td>\n",
       "      <td>1098.91</td>\n",
       "      <td>CUS-1646621553</td>\n",
       "      <td>115.78</td>\n",
       "      <td>31.90</td>\n",
       "    </tr>\n",
       "    <tr>\n",
       "      <th>879</th>\n",
       "      <td>ACC-819621312</td>\n",
       "      <td>Michele</td>\n",
       "      <td>3440.01</td>\n",
       "      <td>F</td>\n",
       "      <td>30</td>\n",
       "      <td>1158.15</td>\n",
       "      <td>CUS-1271030853</td>\n",
       "      <td>145.04</td>\n",
       "      <td>37.85</td>\n",
       "    </tr>\n",
       "    <tr>\n",
       "      <th>880</th>\n",
       "      <td>ACC-2920611728</td>\n",
       "      <td>Tyler</td>\n",
       "      <td>11381.44</td>\n",
       "      <td>M</td>\n",
       "      <td>69</td>\n",
       "      <td>1043.12</td>\n",
       "      <td>CUS-1388323263</td>\n",
       "      <td>144.96</td>\n",
       "      <td>37.76</td>\n",
       "    </tr>\n",
       "    <tr>\n",
       "      <th>881</th>\n",
       "      <td>ACC-1799207998</td>\n",
       "      <td>Susan</td>\n",
       "      <td>11454.52</td>\n",
       "      <td>F</td>\n",
       "      <td>20</td>\n",
       "      <td>1395.49</td>\n",
       "      <td>CUS-164374203</td>\n",
       "      <td>150.68</td>\n",
       "      <td>33.79</td>\n",
       "    </tr>\n",
       "    <tr>\n",
       "      <th>882</th>\n",
       "      <td>ACC-2171593283</td>\n",
       "      <td>Fernando</td>\n",
       "      <td>19893.45</td>\n",
       "      <td>M</td>\n",
       "      <td>19</td>\n",
       "      <td>2639.76</td>\n",
       "      <td>CUS-2317998716</td>\n",
       "      <td>146.94</td>\n",
       "      <td>36.04</td>\n",
       "    </tr>\n",
       "  </tbody>\n",
       "</table>\n",
       "<p>883 rows × 9 columns</p>\n",
       "</div>"
      ],
      "text/plain": [
       "            account first_name   balance gender  age   amount     customer_id  \\\n",
       "0     ACC-588564840     Isaiah   8342.11      M   23  3903.95  CUS-1462656821   \n",
       "1    ACC-1650504218    Marissa   2040.58      F   23  1626.48  CUS-2500783281   \n",
       "2    ACC-3326339947       Eric   3158.51      M   22   983.36   CUS-326006476   \n",
       "3    ACC-3541460373    Jeffrey   2517.66      M   24  1408.08  CUS-1433879684   \n",
       "4    ACC-2776252858    Kristin   2271.79      F   43  1068.04  CUS-4123612273   \n",
       "..              ...        ...       ...    ...  ...      ...             ...   \n",
       "878  ACC-1973887809    Antonio   9378.51      M   26  1098.91  CUS-1646621553   \n",
       "879   ACC-819621312    Michele   3440.01      F   30  1158.15  CUS-1271030853   \n",
       "880  ACC-2920611728      Tyler  11381.44      M   69  1043.12  CUS-1388323263   \n",
       "881  ACC-1799207998      Susan  11454.52      F   20  1395.49   CUS-164374203   \n",
       "882  ACC-2171593283   Fernando  19893.45      M   19  2639.76  CUS-2317998716   \n",
       "\n",
       "        long    lat  \n",
       "0    151.27   33.76  \n",
       "1    145.01   37.93  \n",
       "2    151.18   33.80  \n",
       "3    145.00   37.83  \n",
       "4    144.95   37.76  \n",
       "..       ...    ...  \n",
       "878  115.78   31.90  \n",
       "879  145.04   37.85  \n",
       "880  144.96   37.76  \n",
       "881  150.68   33.79  \n",
       "882  146.94   36.04  \n",
       "\n",
       "[883 rows x 9 columns]"
      ]
     },
     "execution_count": 89,
     "metadata": {},
     "output_type": "execute_result"
    }
   ],
   "source": [
    "salary_td"
   ]
  },
  {
   "cell_type": "code",
   "execution_count": 90,
   "id": "ff7d79cd",
   "metadata": {},
   "outputs": [],
   "source": [
    "customers = df['customer_id'].unique()"
   ]
  },
  {
   "cell_type": "code",
   "execution_count": 92,
   "id": "55f1b4d9",
   "metadata": {},
   "outputs": [],
   "source": [
    "cust_data = {\n",
    "    'account': [],\n",
    "    'first_name': [],\n",
    "    'gender': [],\n",
    "    'customer_id': [],\n",
    "    'long': [],\n",
    "    'lat': [],\n",
    "    'age': [],\n",
    "    'avg_bal': [],\n",
    "    'avg_sal': []\n",
    "}\n",
    "\n",
    "for cust in customers:\n",
    "    cust_td = salary_td[salary_td['customer_id'] == cust]\n",
    "    cust_td = cust_td.reset_index(drop=True)\n",
    "    account = cust_td['account'][0]\n",
    "    first_name = cust_td['first_name'][0]\n",
    "    gender = cust_td['gender'][0]\n",
    "    long = cust_td['long'][0]\n",
    "    lat = cust_td['lat'][0]\n",
    "    age = cust_td['age'][0]\n",
    "    amount = cust_td['amount'][0]\n",
    "    balance = cust_td['balance'][0]\n",
    "    avg_bal = round(sum(cust_td['balance']) / len(cust_td), 2)\n",
    "    avg_sal = round(sum(cust_td['amount']) / len(cust_td), 2)\n",
    "    \n",
    "    cust_data['account'].append(account)\n",
    "    cust_data['first_name'].append(first_name)\n",
    "    cust_data['gender'].append(gender)\n",
    "    cust_data['long'].append(long)\n",
    "    cust_data['lat'].append(lat)\n",
    "    cust_data['age'].append(age)\n",
    "    cust_data['avg_bal'].append(avg_bal)\n",
    "    cust_data['avg_sal'].append(avg_sal)\n",
    "    cust_data['customer_id'].append(cust)"
   ]
  },
  {
   "cell_type": "code",
   "execution_count": 93,
   "id": "adb6b6d1",
   "metadata": {},
   "outputs": [],
   "source": [
    "customer_df = pd.DataFrame(cust_data)"
   ]
  },
  {
   "cell_type": "code",
   "execution_count": 94,
   "id": "521b6f9d",
   "metadata": {},
   "outputs": [
    {
     "data": {
      "text/html": [
       "<div>\n",
       "<style scoped>\n",
       "    .dataframe tbody tr th:only-of-type {\n",
       "        vertical-align: middle;\n",
       "    }\n",
       "\n",
       "    .dataframe tbody tr th {\n",
       "        vertical-align: top;\n",
       "    }\n",
       "\n",
       "    .dataframe thead th {\n",
       "        text-align: right;\n",
       "    }\n",
       "</style>\n",
       "<table border=\"1\" class=\"dataframe\">\n",
       "  <thead>\n",
       "    <tr style=\"text-align: right;\">\n",
       "      <th></th>\n",
       "      <th>account</th>\n",
       "      <th>first_name</th>\n",
       "      <th>gender</th>\n",
       "      <th>customer_id</th>\n",
       "      <th>long</th>\n",
       "      <th>lat</th>\n",
       "      <th>age</th>\n",
       "      <th>avg_bal</th>\n",
       "      <th>avg_sal</th>\n",
       "    </tr>\n",
       "  </thead>\n",
       "  <tbody>\n",
       "    <tr>\n",
       "      <th>0</th>\n",
       "      <td>ACC-1598451071</td>\n",
       "      <td>Diana</td>\n",
       "      <td>F</td>\n",
       "      <td>CUS-2487424745</td>\n",
       "      <td>153.41</td>\n",
       "      <td>27.95</td>\n",
       "      <td>26</td>\n",
       "      <td>2140.27</td>\n",
       "      <td>1013.67</td>\n",
       "    </tr>\n",
       "    <tr>\n",
       "      <th>1</th>\n",
       "      <td>ACC-1222300524</td>\n",
       "      <td>Michael</td>\n",
       "      <td>M</td>\n",
       "      <td>CUS-2142601169</td>\n",
       "      <td>151.23</td>\n",
       "      <td>33.94</td>\n",
       "      <td>38</td>\n",
       "      <td>1755.89</td>\n",
       "      <td>1002.13</td>\n",
       "    </tr>\n",
       "    <tr>\n",
       "      <th>2</th>\n",
       "      <td>ACC-1037050564</td>\n",
       "      <td>Rhonda</td>\n",
       "      <td>F</td>\n",
       "      <td>CUS-1614226872</td>\n",
       "      <td>153.10</td>\n",
       "      <td>27.66</td>\n",
       "      <td>40</td>\n",
       "      <td>3959.40</td>\n",
       "      <td>892.09</td>\n",
       "    </tr>\n",
       "    <tr>\n",
       "      <th>3</th>\n",
       "      <td>ACC-1608363396</td>\n",
       "      <td>Robert</td>\n",
       "      <td>M</td>\n",
       "      <td>CUS-2688605418</td>\n",
       "      <td>151.22</td>\n",
       "      <td>33.87</td>\n",
       "      <td>20</td>\n",
       "      <td>6793.49</td>\n",
       "      <td>2320.30</td>\n",
       "    </tr>\n",
       "    <tr>\n",
       "      <th>4</th>\n",
       "      <td>ACC-2776252858</td>\n",
       "      <td>Kristin</td>\n",
       "      <td>F</td>\n",
       "      <td>CUS-4123612273</td>\n",
       "      <td>144.95</td>\n",
       "      <td>37.76</td>\n",
       "      <td>43</td>\n",
       "      <td>5210.70</td>\n",
       "      <td>1068.04</td>\n",
       "    </tr>\n",
       "    <tr>\n",
       "      <th>...</th>\n",
       "      <td>...</td>\n",
       "      <td>...</td>\n",
       "      <td>...</td>\n",
       "      <td>...</td>\n",
       "      <td>...</td>\n",
       "      <td>...</td>\n",
       "      <td>...</td>\n",
       "      <td>...</td>\n",
       "      <td>...</td>\n",
       "    </tr>\n",
       "    <tr>\n",
       "      <th>95</th>\n",
       "      <td>ACC-2528867619</td>\n",
       "      <td>Abigail</td>\n",
       "      <td>F</td>\n",
       "      <td>CUS-2505971401</td>\n",
       "      <td>138.58</td>\n",
       "      <td>34.96</td>\n",
       "      <td>40</td>\n",
       "      <td>11622.62</td>\n",
       "      <td>1946.57</td>\n",
       "    </tr>\n",
       "    <tr>\n",
       "      <th>96</th>\n",
       "      <td>ACC-2650850707</td>\n",
       "      <td>Brian</td>\n",
       "      <td>M</td>\n",
       "      <td>CUS-2819545904</td>\n",
       "      <td>148.16</td>\n",
       "      <td>23.52</td>\n",
       "      <td>42</td>\n",
       "      <td>113253.76</td>\n",
       "      <td>3231.26</td>\n",
       "    </tr>\n",
       "    <tr>\n",
       "      <th>97</th>\n",
       "      <td>ACC-1998563091</td>\n",
       "      <td>David</td>\n",
       "      <td>M</td>\n",
       "      <td>CUS-3395687666</td>\n",
       "      <td>149.03</td>\n",
       "      <td>35.25</td>\n",
       "      <td>42</td>\n",
       "      <td>17569.02</td>\n",
       "      <td>1757.81</td>\n",
       "    </tr>\n",
       "    <tr>\n",
       "      <th>98</th>\n",
       "      <td>ACC-3233697971</td>\n",
       "      <td>Robin</td>\n",
       "      <td>F</td>\n",
       "      <td>CUS-1147642491</td>\n",
       "      <td>151.04</td>\n",
       "      <td>33.77</td>\n",
       "      <td>34</td>\n",
       "      <td>8813.47</td>\n",
       "      <td>1711.39</td>\n",
       "    </tr>\n",
       "    <tr>\n",
       "      <th>99</th>\n",
       "      <td>ACC-240804743</td>\n",
       "      <td>Kenneth</td>\n",
       "      <td>M</td>\n",
       "      <td>CUS-261674136</td>\n",
       "      <td>121.48</td>\n",
       "      <td>30.75</td>\n",
       "      <td>29</td>\n",
       "      <td>15185.59</td>\n",
       "      <td>4405.30</td>\n",
       "    </tr>\n",
       "  </tbody>\n",
       "</table>\n",
       "<p>100 rows × 9 columns</p>\n",
       "</div>"
      ],
      "text/plain": [
       "           account first_name gender     customer_id     long    lat  age  \\\n",
       "0   ACC-1598451071      Diana      F  CUS-2487424745  153.41   27.95   26   \n",
       "1   ACC-1222300524    Michael      M  CUS-2142601169  151.23   33.94   38   \n",
       "2   ACC-1037050564     Rhonda      F  CUS-1614226872  153.10   27.66   40   \n",
       "3   ACC-1608363396     Robert      M  CUS-2688605418  151.22   33.87   20   \n",
       "4   ACC-2776252858    Kristin      F  CUS-4123612273  144.95   37.76   43   \n",
       "..             ...        ...    ...             ...      ...    ...  ...   \n",
       "95  ACC-2528867619    Abigail      F  CUS-2505971401  138.58   34.96   40   \n",
       "96  ACC-2650850707      Brian      M  CUS-2819545904  148.16   23.52   42   \n",
       "97  ACC-1998563091      David      M  CUS-3395687666  149.03   35.25   42   \n",
       "98  ACC-3233697971      Robin      F  CUS-1147642491  151.04   33.77   34   \n",
       "99   ACC-240804743    Kenneth      M   CUS-261674136  121.48   30.75   29   \n",
       "\n",
       "      avg_bal  avg_sal  \n",
       "0     2140.27  1013.67  \n",
       "1     1755.89  1002.13  \n",
       "2     3959.40   892.09  \n",
       "3     6793.49  2320.30  \n",
       "4     5210.70  1068.04  \n",
       "..        ...      ...  \n",
       "95   11622.62  1946.57  \n",
       "96  113253.76  3231.26  \n",
       "97   17569.02  1757.81  \n",
       "98    8813.47  1711.39  \n",
       "99   15185.59  4405.30  \n",
       "\n",
       "[100 rows x 9 columns]"
      ]
     },
     "execution_count": 94,
     "metadata": {},
     "output_type": "execute_result"
    }
   ],
   "source": [
    "customer_df"
   ]
  },
  {
   "cell_type": "code",
   "execution_count": 95,
   "id": "d6ffa9a4",
   "metadata": {},
   "outputs": [],
   "source": [
    "features = customer_df.copy()"
   ]
  },
  {
   "cell_type": "code",
   "execution_count": 96,
   "id": "f9f40cdc",
   "metadata": {},
   "outputs": [],
   "source": [
    "features = pd.get_dummies(features, columns=['gender'], drop_first=True)"
   ]
  },
  {
   "cell_type": "code",
   "execution_count": 99,
   "id": "e8b01f6d",
   "metadata": {
    "scrolled": true
   },
   "outputs": [],
   "source": [
    "features = features.merge(annual_salary, on='customer_id')"
   ]
  },
  {
   "cell_type": "code",
   "execution_count": 115,
   "id": "d765c038",
   "metadata": {
    "scrolled": true
   },
   "outputs": [
    {
     "data": {
      "text/plain": [
       "Text(0, 0.5, 'Annual Salary')"
      ]
     },
     "execution_count": 115,
     "metadata": {},
     "output_type": "execute_result"
    },
    {
     "data": {
      "image/png": "[encoded data removed]",
      "text/plain": [
       "<Figure size 720x360 with 1 Axes>"
      ]
     },
     "metadata": {},
     "output_type": "display_data"
    }
   ],
   "source": [
    "sns.set(style=\"whitegrid\")\n",
    "sns.set(rc={'figure.figsize':(10,5)})\n",
    "age_salary_graph = sns.scatterplot(x=\"age\", y=\"annual_salary\", hue = 'gender_M', data=features)\n",
    "age_salary_graph.axes.set_title(\"Scatterplot of Annual Salary against Age\",fontsize=20)\n",
    "age_salary_graph.set_xlabel(\"Age\", fontsize=15)\n",
    "age_salary_graph.set_ylabel(\"Annual Salary\", fontsize=15)"
   ]
  },
  {
   "cell_type": "code",
   "execution_count": 117,
   "id": "c811af18",
   "metadata": {},
   "outputs": [
    {
     "data": {
      "text/plain": [
       "Text(0, 0.5, 'Annual Salary')"
      ]
     },
     "execution_count": 117,
     "metadata": {},
     "output_type": "execute_result"
    },
    {
     "data": {
      "image/png": "[encoded data removed]",
      "text/plain": [
       "<Figure size 720x360 with 1 Axes>"
      ]
     },
     "metadata": {},
     "output_type": "display_data"
    }
   ],
   "source": [
    "sns.set(style=\"whitegrid\")\n",
    "sns.set(rc={'figure.figsize':(10,5)})\n",
    "age_salary_graph = sns.scatterplot(x=\"avg_bal\", y=\"annual_salary\", data=features)\n",
    "age_salary_graph.axes.set_title(\"Scatterplot of Annual Salary against Average Balance\",fontsize=20)\n",
    "age_salary_graph.set_xlabel(\"Average Balance\", fontsize=15)\n",
    "age_salary_graph.set_ylabel(\"Annual Salary\", fontsize=15)"
   ]
  },
  {
   "cell_type": "code",
   "execution_count": 101,
   "id": "66bd08b5",
   "metadata": {},
   "outputs": [],
   "source": [
    "train, test = train_test_split(features, test_size=0.2, random_state=42)"
   ]
  },
  {
   "cell_type": "code",
   "execution_count": 102,
   "id": "b72451c6",
   "metadata": {},
   "outputs": [],
   "source": [
    "X_train=train[['age', 'long', 'lat', 'avg_bal', 'gender_M']]\n",
    "X_test=test[['age', 'long', 'lat', 'avg_bal', 'gender_M']]\n",
    "y_train=train['annual_salary']\n",
    "y_test=test['annual_salary']"
   ]
  },
  {
   "cell_type": "code",
   "execution_count": 103,
   "id": "dedc284a",
   "metadata": {},
   "outputs": [],
   "source": [
    "reg = LinearRegression()"
   ]
  },
  {
   "cell_type": "code",
   "execution_count": 104,
   "id": "d0fc1c0d",
   "metadata": {},
   "outputs": [
    {
     "data": {
      "text/plain": [
       "LinearRegression()"
      ]
     },
     "execution_count": 104,
     "metadata": {},
     "output_type": "execute_result"
    }
   ],
   "source": [
    "reg.fit(X_train, y_train)"
   ]
  },
  {
   "cell_type": "code",
   "execution_count": 105,
   "id": "092f36b6",
   "metadata": {},
   "outputs": [
    {
     "data": {
      "text/plain": [
       "0.04093111420207107"
      ]
     },
     "execution_count": 105,
     "metadata": {},
     "output_type": "execute_result"
    }
   ],
   "source": [
    "reg.score(X_train, y_train)"
   ]
  },
  {
   "cell_type": "code",
   "execution_count": 118,
   "id": "4cc86751",
   "metadata": {},
   "outputs": [],
   "source": [
    "y_predict = reg.predict(X_test)"
   ]
  },
  {
   "cell_type": "code",
   "execution_count": 119,
   "id": "6087699f",
   "metadata": {},
   "outputs": [
    {
     "data": {
      "text/plain": [
       "23653.573296239665"
      ]
     },
     "execution_count": 119,
     "metadata": {},
     "output_type": "execute_result"
    }
   ],
   "source": [
    "np.sqrt(metrics.mean_squared_error(y_test, pred))"
   ]
  },
  {
   "cell_type": "code",
   "execution_count": 120,
   "id": "ab50b947",
   "metadata": {},
   "outputs": [
    {
     "data": {
      "image/png": "[encoded data removed]",
      "text/plain": [
       "<Figure size 720x360 with 1 Axes>"
      ]
     },
     "metadata": {},
     "output_type": "display_data"
    }
   ],
   "source": [
    "fig, ax = plt.subplots()\n",
    "ax.scatter(y_test, y_predict, edgecolors=(0, 0, 0))\n",
    "ax.plot([y_test.min(), y_test.max()], [y_test.min(), y_test.max()], 'k--', lw=4)\n",
    "ax.set_xlabel('Actual')\n",
    "ax.set_ylabel('Predicted')\n",
    "ax.set_title(\"Annual Salary vs Predicted\")\n",
    "plt.show()"
   ]
  },
  {
   "cell_type": "code",
   "execution_count": 108,
   "id": "5865ce29",
   "metadata": {},
   "outputs": [],
   "source": [
    "from sklearn.tree import DecisionTreeRegressor"
   ]
  },
  {
   "cell_type": "code",
   "execution_count": 109,
   "id": "a0738036",
   "metadata": {},
   "outputs": [],
   "source": [
    "clf = DecisionTreeRegressor(max_depth=5,random_state=0)"
   ]
  },
  {
   "cell_type": "code",
   "execution_count": 110,
   "id": "b847b2a3",
   "metadata": {},
   "outputs": [
    {
     "data": {
      "text/plain": [
       "DecisionTreeRegressor(max_depth=5, random_state=0)"
      ]
     },
     "execution_count": 110,
     "metadata": {},
     "output_type": "execute_result"
    }
   ],
   "source": [
    "clf.fit(X_train, y_train)"
   ]
  },
  {
   "cell_type": "code",
   "execution_count": 111,
   "id": "644105d8",
   "metadata": {},
   "outputs": [
    {
     "data": {
      "text/plain": [
       "0.89125702166197"
      ]
     },
     "execution_count": 111,
     "metadata": {},
     "output_type": "execute_result"
    }
   ],
   "source": [
    "clf.score(X_train, y_train)"
   ]
  },
  {
   "cell_type": "code",
   "execution_count": 122,
   "id": "42800f66",
   "metadata": {},
   "outputs": [],
   "source": [
    "c_predict = clf.predict(X_test)"
   ]
  },
  {
   "cell_type": "code",
   "execution_count": 123,
   "id": "f60035de",
   "metadata": {},
   "outputs": [
    {
     "data": {
      "text/plain": [
       "28828.0597455615"
      ]
     },
     "execution_count": 123,
     "metadata": {},
     "output_type": "execute_result"
    }
   ],
   "source": [
    "np.sqrt(metrics.mean_squared_error(y_test, c_pred))"
   ]
  },
  {
   "cell_type": "code",
   "execution_count": 124,
   "id": "54289674",
   "metadata": {},
   "outputs": [
    {
     "data": {
      "image/png": "[encoded data removed]",
      "text/plain": [
       "<Figure size 720x360 with 1 Axes>"
      ]
     },
     "metadata": {},
     "output_type": "display_data"
    }
   ],
   "source": [
    "# Plot of predicted salary against actual salary\n",
    "fig, ax = plt.subplots()\n",
    "ax.scatter(y_test, c_predict, edgecolors=(0, 0, 0))\n",
    "ax.plot([y_test.min(), y_test.max()], [y_test.min(), y_test.max()], 'k--', lw=4)\n",
    "ax.set_xlabel('Actual')\n",
    "ax.set_ylabel('Predicted')\n",
    "ax.set_title(\"Annual Salary vs Predicted\")\n",
    "plt.show()\n"
   ]
  },
  {
   "cell_type": "code",
   "execution_count": null,
   "id": "70e2b7f9",
   "metadata": {},
   "outputs": [],
   "source": []
  }
 ],
 "metadata": {
  "kernelspec": {
   "display_name": "Python 3",
   "language": "python",
   "name": "python3"
  },
  "language_info": {
   "codemirror_mode": {
    "name": "ipython",
    "version": 3
   },
   "file_extension": ".py",
   "mimetype": "text/x-python",
   "name": "python",
   "nbconvert_exporter": "python",
   "pygments_lexer": "ipython3",
   "version": "3.8.8"
  }
 },
 "nbformat": 4,
 "nbformat_minor": 5
}
